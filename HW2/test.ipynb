{
 "cells": [
  {
   "cell_type": "code",
   "execution_count": 2,
   "source": [
    "from statistics import mean, stdev\n",
    "from sklearn import preprocessing\n",
    "from sklearn.model_selection import StratifiedKFold\n",
    "from sklearn import linear_model\n",
    "from sklearn import datasets\n",
    "  \n",
    "# FEATCHING FEATURES AND TARGET VARIABLES IN ARRAY FORMAT.\n",
    "cancer = datasets.load_breast_cancer()\n",
    "# Input_x_Features.\n",
    "x = cancer.data                        \n",
    " \n",
    "# Input_ y_Target_Variable.\n",
    "y = cancer.target                      \n",
    "   \n",
    "  \n",
    "# Feature Scaling for input features.\n",
    "scaler = preprocessing.MinMaxScaler()\n",
    "x_scaled = scaler.fit_transform(x)\n",
    "  \n",
    "# Create  classifier object.\n",
    "lr = linear_model.LogisticRegression()\n",
    "  \n",
    "# Create StratifiedKFold object.\n",
    "skf = StratifiedKFold(n_splits=5, shuffle=True, random_state=1)\n",
    "lst_accu_stratified = []\n",
    "  \n",
    "for train_index, test_index in skf.split(x, y):\n",
    "    x_train_fold, x_test_fold = x_scaled[train_index], x_scaled[test_index]\n",
    "    y_train_fold, y_test_fold = y[train_index], y[test_index]\n",
    "    lr.fit(x_train_fold, y_train_fold)\n",
    "    lst_accu_stratified.append(lr.score(x_test_fold, y_test_fold))\n",
    "  \n",
    "# Print the output.\n",
    "print('List of possible accuracy:', lst_accu_stratified)\n",
    "print('\\nMaximum Accuracy That can be obtained from this model is:',\n",
    "      max(lst_accu_stratified)*100, '%')\n",
    "print('\\nMinimum Accuracy:',\n",
    "      min(lst_accu_stratified)*100, '%')\n",
    "print('\\nOverall Accuracy:',\n",
    "      mean(lst_accu_stratified)*100, '%')\n",
    "print('\\nStandard Deviation is:', stdev(lst_accu_stratified))"
   ],
   "outputs": [
    {
     "output_type": "stream",
     "name": "stdout",
     "text": [
      "List of possible accuracy: [0.9473684210526315, 0.9912280701754386, 0.9649122807017544, 0.9649122807017544, 0.9557522123893806]\n",
      "\n",
      "Maximum Accuracy That can be obtained from this model is: 99.12280701754386 %\n",
      "\n",
      "Minimum Accuracy: 94.73684210526315 %\n",
      "\n",
      "Overall Accuracy: 96.4834653004192 %\n",
      "\n",
      "Standard Deviation is: 0.016463478582924077\n"
     ]
    }
   ],
   "metadata": {}
  },
  {
   "cell_type": "code",
   "execution_count": null,
   "source": [
    "from sklearn.model_selection import StratifiedKFold, KFold\n",
    "from statistics import mean, stdev\n",
    "from sklearn import preprocessing\n",
    "from sklearn import linear_model\n",
    "from sklearn import datasets\n",
    "\n",
    "scaler = preprocessing.MinMaxScaler()\n",
    "x_scaled = scaler.fit_transform(X)\n",
    "skf = StratifiedKFold(n_splits=5, shuffle=True, random_state=1)\n",
    "for train_index, test_index in skf.split(X, y):\n",
    "    x_train_fold, x_test_fold = x_scaled[train_index], x_scaled[test_index]\n",
    "    y_train_fold, y_test_fold = y[train_index], y[test_index]\n",
    "    linear_model.fit(x_train_fold, y_train_fold)\n",
    "    lst_accu_stratified.append(linear_model.score(x_test_fold, y_test_fold))\n",
    "print('List of possible accuracy:', lst_accu_stratified)\n",
    "print('\\nMaximum Accuracy That can be obtained from this model is:', max(lst_accu_stratified)*100, '%')\n",
    "print('\\nMinimum Accuracy:', min(lst_accu_stratified)*100, '%')\n",
    "print('\\nOverall Accuracy:', mean(lst_accu_stratified)*100, '%')\n",
    "print('\\nStandard Deviation is:', stdev(lst_accu_stratified))"
   ],
   "outputs": [],
   "metadata": {}
  },
  {
   "cell_type": "code",
   "execution_count": null,
   "source": [
    "import pandas as pd\n",
    "from sklearn.model_selection import StratifiedKFold\n",
    "\n",
    "skf = StratifiedKFold(n_splits=5)\n",
    "target = hitters_data.loc[:,'NewLeague']\n",
    "from sklearn.linear_model import LogisticRegression\n",
    "from sklearn.metrics import accuracy_score\n",
    "model = LogisticRegression()\n",
    "def train_model(train, test, fold_no):\n",
    "    X = ['HmRun','Years']\n",
    "    y = ['NewLeague']\n",
    "    X_train = train[X]\n",
    "    y_train = train[y]\n",
    "    X_test = test[X]\n",
    "    y_test = test[y]\n",
    "    model.fit(X_train,y_train)\n",
    "    predictions = model.predict(X_test)\n",
    "    print('Fold',str(fold_no),'Accuracy:',accuracy_score(y_test,predictions))\n",
    "\n",
    "fold_no = 1\n",
    "for train_index, test_index in skf.split(hitters_data, target):\n",
    "    train = hitters_data.loc[train_index,:]\n",
    "    test = hitters_data.loc[test_index,:]\n",
    "    train_model(train,test,fold_no)\n",
    "    fold_no += 1"
   ],
   "outputs": [],
   "metadata": {}
  }
 ],
 "metadata": {
  "orig_nbformat": 4,
  "language_info": {
   "name": "python",
   "version": "3.8.8",
   "mimetype": "text/x-python",
   "codemirror_mode": {
    "name": "ipython",
    "version": 3
   },
   "pygments_lexer": "ipython3",
   "nbconvert_exporter": "python",
   "file_extension": ".py"
  },
  "kernelspec": {
   "name": "python3",
   "display_name": "Python 3.8.8 64-bit ('base': conda)"
  },
  "interpreter": {
   "hash": "4e7d7b88fe9e1670f7e8ef5777cab33ffeab5b31ad2df29b9051f9df525a9039"
  }
 },
 "nbformat": 4,
 "nbformat_minor": 2
}