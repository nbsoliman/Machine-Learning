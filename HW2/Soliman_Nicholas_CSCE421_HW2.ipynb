{
 "cells": [
  {
   "cell_type": "markdown",
   "source": [
    "# CSCE 421 :: Machine Learning :: Texas A&M University :: Fall 2021\n",
    "\n",
    "# Homework 2 (HW-2)\n",
    "**Name: Nicholas Soliman**  \n",
    "**UIN:326009195**  "
   ],
   "metadata": {}
  },
  {
   "cell_type": "markdown",
   "source": [
    "## Problem 1: Linear regression implementation"
   ],
   "metadata": {}
  },
  {
   "cell_type": "markdown",
   "source": [
    "#### (1) Download and read the data."
   ],
   "metadata": {}
  },
  {
   "cell_type": "code",
   "execution_count": 1819,
   "source": [
    "import pandas as pd\n",
    "import numpy as np\n",
    "\n",
    "train_data = pd.read_csv(\"train.csv\")\n",
    "test_data = pd.read_csv(\"test.csv\")"
   ],
   "outputs": [],
   "metadata": {}
  },
  {
   "cell_type": "markdown",
   "source": [
    "#### (2) Print the data. "
   ],
   "metadata": {}
  },
  {
   "cell_type": "code",
   "execution_count": 1820,
   "source": [
    "print(train_data.head())\n",
    "print(test_data.head())"
   ],
   "outputs": [
    {
     "output_type": "stream",
     "name": "stdout",
     "text": [
      "      x          y\n",
      "0  24.0  21.549452\n",
      "1  50.0  47.464463\n",
      "2  15.0  17.218656\n",
      "3  38.0  36.586398\n",
      "4  87.0  87.288984\n",
      "    x          y\n",
      "0  77  79.775152\n",
      "1  21  23.177279\n",
      "2  22  25.609262\n",
      "3  20  17.857388\n",
      "4  36  41.849864\n"
     ]
    }
   ],
   "metadata": {}
  },
  {
   "cell_type": "markdown",
   "source": [
    "#### (3) Prepare your input data and label. "
   ],
   "metadata": {}
  },
  {
   "cell_type": "code",
   "execution_count": 1821,
   "source": [
    "# train_data.apply (pd.to_numeric, errors='coerce')\n",
    "train_data.dropna(inplace=True)\n",
    "print(\"Dropped Nan Samples...\")\n",
    "label = train_data.shape\n",
    "print(\"Label: \", label)"
   ],
   "outputs": [
    {
     "output_type": "stream",
     "name": "stdout",
     "text": [
      "Dropped Nan Samples...\n",
      "Label:  (699, 2)\n"
     ]
    }
   ],
   "metadata": {}
  },
  {
   "cell_type": "markdown",
   "source": [
    "#### (4) Implement LinearRegression class"
   ],
   "metadata": {}
  },
  {
   "cell_type": "code",
   "execution_count": 1822,
   "source": [
    "# Linear regression class\n",
    "class LinearRegression:   \n",
    "    def __init__(self, learning_rate=0.00001, iterations=30, precision = 0.000001):        \n",
    "        self.learning_rate = learning_rate   \n",
    "        self.iterations = iterations\n",
    "        self.precision = precision\n",
    "          \n",
    "    # Function for model training         \n",
    "    def fit(self):\n",
    "          \n",
    "        # weight initialization         \n",
    "        self.sample_weight = 0.8\n",
    "\n",
    "        # data\n",
    "        self.X = train_data\n",
    "        self.y = test_data\n",
    "\n",
    "        previous_step_size = 1\n",
    "        iters = 0\n",
    "        cur_x = 5\n",
    "        # gradient descent learning                  \n",
    "        while previous_step_size > self.precision and iters < self.iterations:\n",
    "            prev_x = cur_x\n",
    "            cur_x = cur_x - self.learning_rate * prev_x\n",
    "            previous_step_size = abs(cur_x - prev_x)\n",
    "            iters = iters+1\n",
    "            print(\"Iteration\",iters,\"\\nX value is\",cur_x-(1/iters))\n",
    "      \n",
    "    # Helper function to update weights in gradient descent      \n",
    "    # def update_weights(self):                \n",
    "        \n",
    "    #     # calculate gradients \n",
    "          \n",
    "    #     # update weights\n",
    "          \n",
    "      \n",
    "    # # Hypothetical function  h( x )       \n",
    "    def predict(self): \n",
    "        return self.X"
   ],
   "outputs": [],
   "metadata": {}
  },
  {
   "cell_type": "markdown",
   "source": [
    "#### (5) Build your model and train with training set"
   ],
   "metadata": {}
  },
  {
   "cell_type": "code",
   "execution_count": 1823,
   "source": [
    "model = LinearRegression()\n",
    "model.fit()"
   ],
   "outputs": [
    {
     "output_type": "stream",
     "name": "stdout",
     "text": [
      "Iteration 1 \n",
      "X value is 3.99995\n",
      "Iteration 2 \n",
      "X value is 4.4999000005\n",
      "Iteration 3 \n",
      "X value is 4.666516668166662\n",
      "Iteration 4 \n",
      "X value is 4.74980000299998\n",
      "Iteration 5 \n",
      "X value is 4.79975000499995\n",
      "Iteration 6 \n",
      "X value is 4.833033340833233\n",
      "Iteration 7 \n",
      "X value is 4.856792867642682\n",
      "Iteration 8 \n",
      "X value is 4.87460001399972\n",
      "Iteration 9 \n",
      "X value is 4.888438906888469\n",
      "Iteration 10 \n",
      "X value is 4.8995000224994\n",
      "Iteration 11 \n",
      "X value is 4.908540936590084\n",
      "Iteration 12 \n",
      "X value is 4.916066699665567\n",
      "Iteration 13 \n",
      "X value is 4.922426962075494\n",
      "Iteration 14 \n",
      "X value is 4.927871474069609\n",
      "Iteration 15 \n",
      "X value is 4.932583385831059\n",
      "Iteration 16 \n",
      "X value is 4.9367000599972\n",
      "Iteration 17 \n",
      "X value is 4.940326538584836\n",
      "Iteration 18 \n",
      "X value is 4.943544520940366\n",
      "Iteration 19 \n",
      "X value is 4.946418506547788\n",
      "Iteration 20 \n",
      "X value is 4.949000094994301\n",
      "Iteration 21 \n",
      "X value is 4.951331057374303\n",
      "Iteration 22 \n",
      "X value is 4.953445570037755\n",
      "Iteration 23 \n",
      "X value is 4.955371865621581\n",
      "Iteration 24 \n",
      "X value is 4.957133471323215\n",
      "Iteration 25 \n",
      "X value is 4.958750149988502\n",
      "Iteration 26 \n",
      "X value is 4.960238624025464\n",
      "Iteration 27 \n",
      "X value is 4.96161313844834\n",
      "Iteration 28 \n",
      "X value is 4.962885903269337\n",
      "Iteration 29 \n",
      "X value is 4.964067444361043\n",
      "Iteration 30 \n",
      "X value is 4.965166884146369\n"
     ]
    }
   ],
   "metadata": {}
  },
  {
   "cell_type": "markdown",
   "source": [
    "#### (6) Make predictions with test set"
   ],
   "metadata": {}
  },
  {
   "cell_type": "code",
   "execution_count": 1824,
   "source": [
    "linear_pred = model.predict()\n",
    "print(linear_pred)"
   ],
   "outputs": [
    {
     "output_type": "stream",
     "name": "stdout",
     "text": [
      "        x          y\n",
      "0    24.0  21.549452\n",
      "1    50.0  47.464463\n",
      "2    15.0  17.218656\n",
      "3    38.0  36.586398\n",
      "4    87.0  87.288984\n",
      "..    ...        ...\n",
      "695  58.0  58.595006\n",
      "696  93.0  94.625094\n",
      "697  82.0  88.603770\n",
      "698  66.0  63.648685\n",
      "699  97.0  94.975266\n",
      "\n",
      "[699 rows x 2 columns]\n"
     ]
    }
   ],
   "metadata": {}
  },
  {
   "cell_type": "markdown",
   "source": [
    "#### (7) Calculate and print the mean square error of your prediction."
   ],
   "metadata": {}
  },
  {
   "cell_type": "code",
   "execution_count": 1825,
   "source": [
    "MSE = np.square(np.subtract(train_data,linear_pred)).mean()\n",
    "print(\"Mean Square Error: \", MSE)"
   ],
   "outputs": [
    {
     "output_type": "stream",
     "name": "stdout",
     "text": [
      "Mean Square Error:  x    0.0\n",
      "y    0.0\n",
      "dtype: float64\n"
     ]
    }
   ],
   "metadata": {}
  },
  {
   "cell_type": "markdown",
   "source": [
    "#### (8) Plot your prediction and labels."
   ],
   "metadata": {}
  },
  {
   "cell_type": "code",
   "execution_count": 1826,
   "source": [
    "# Plot your prediction and labels\n",
    "import matplotlib.pyplot as plt\n",
    "plt.scatter(linear_pred, train_data)\n",
    "plt.title(\"Predictions and labels\")\n",
    "plt.show()"
   ],
   "outputs": [
    {
     "output_type": "display_data",
     "data": {
      "image/png": "[encoded data removed]",
      "text/plain": [
       "<Figure size 432x288 with 1 Axes>"
      ]
     },
     "metadata": {
      "needs_background": "light"
     }
    }
   ],
   "metadata": {}
  },
  {
   "cell_type": "markdown",
   "source": [
    "## Problem 2: Preprocessing the Data."
   ],
   "metadata": {}
  },
  {
   "cell_type": "markdown",
   "source": [
    "#### (1) Download and read the data."
   ],
   "metadata": {}
  },
  {
   "cell_type": "code",
   "execution_count": 1827,
   "source": [
    "# Load data using pandas\n",
    "import pandas as pd\n",
    "\n",
    "hitters_data = pd.read_csv(\"Hitters.csv\")"
   ],
   "outputs": [],
   "metadata": {}
  },
  {
   "cell_type": "markdown",
   "source": [
    "#### (2) Print the data. "
   ],
   "metadata": {}
  },
  {
   "cell_type": "code",
   "execution_count": 1828,
   "source": [
    "print(hitters_data.head())"
   ],
   "outputs": [
    {
     "output_type": "stream",
     "name": "stdout",
     "text": [
      "              Player  AtBat  Hits  HmRun  Runs  RBI  Walks  Years  CAtBat  \\\n",
      "0     -Andy Allanson    293    66      1    30   29     14      1     293   \n",
      "1        -Alan Ashby    315    81      7    24   38     39     14    3449   \n",
      "2       -Alvin Davis    479   130     18    66   72     76      3    1624   \n",
      "3      -Andre Dawson    496   141     20    65   78     37     11    5628   \n",
      "4  -Andres Galarraga    321    87     10    39   42     30      2     396   \n",
      "\n",
      "   CHits  ...  CRuns  CRBI  CWalks  League Division PutOuts  Assists  Errors  \\\n",
      "0     66  ...     30    29      14       A        E     446       33      20   \n",
      "1    835  ...    321   414     375       N        W     632       43      10   \n",
      "2    457  ...    224   266     263       A        W     880       82      14   \n",
      "3   1575  ...    828   838     354       N        E     200       11       3   \n",
      "4    101  ...     48    46      33       N        E     805       40       4   \n",
      "\n",
      "   Salary  NewLeague  \n",
      "0     NaN          A  \n",
      "1   475.0          N  \n",
      "2   480.0          A  \n",
      "3   500.0          N  \n",
      "4    91.5          N  \n",
      "\n",
      "[5 rows x 21 columns]\n"
     ]
    }
   ],
   "metadata": {}
  },
  {
   "cell_type": "markdown",
   "source": [
    "#### (3) Print the shape of the data."
   ],
   "metadata": {}
  },
  {
   "cell_type": "code",
   "execution_count": 1829,
   "source": [
    "print(\"Shape: \", hitters_data.shape)"
   ],
   "outputs": [
    {
     "output_type": "stream",
     "name": "stdout",
     "text": [
      "Shape:  (322, 21)\n"
     ]
    }
   ],
   "metadata": {}
  },
  {
   "cell_type": "markdown",
   "source": [
    "#### (4) Does the data have any missing values?  How many are missing?"
   ],
   "metadata": {}
  },
  {
   "cell_type": "code",
   "execution_count": 1830,
   "source": [
    "# Missing value check\n",
    "missing_values = hitters_data.isnull().sum()\n",
    "print(missing_values)"
   ],
   "outputs": [
    {
     "output_type": "stream",
     "name": "stdout",
     "text": [
      "Player        0\n",
      "AtBat         0\n",
      "Hits          0\n",
      "HmRun         0\n",
      "Runs          0\n",
      "RBI           0\n",
      "Walks         0\n",
      "Years         0\n",
      "CAtBat        0\n",
      "CHits         0\n",
      "CHmRun        0\n",
      "CRuns         0\n",
      "CRBI          0\n",
      "CWalks        0\n",
      "League        0\n",
      "Division      0\n",
      "PutOuts       0\n",
      "Assists       0\n",
      "Errors        0\n",
      "Salary       59\n",
      "NewLeague     0\n",
      "dtype: int64\n"
     ]
    }
   ],
   "metadata": {}
  },
  {
   "cell_type": "markdown",
   "source": [
    "#### (5) Drop all  the rows  with any missing data."
   ],
   "metadata": {}
  },
  {
   "cell_type": "code",
   "execution_count": 1831,
   "source": [
    "hitters_data.dropna(inplace=True)\n",
    "missing_values = hitters_data.isnull().sum()\n",
    "print(missing_values)"
   ],
   "outputs": [
    {
     "output_type": "stream",
     "name": "stdout",
     "text": [
      "Player       0\n",
      "AtBat        0\n",
      "Hits         0\n",
      "HmRun        0\n",
      "Runs         0\n",
      "RBI          0\n",
      "Walks        0\n",
      "Years        0\n",
      "CAtBat       0\n",
      "CHits        0\n",
      "CHmRun       0\n",
      "CRuns        0\n",
      "CRBI         0\n",
      "CWalks       0\n",
      "League       0\n",
      "Division     0\n",
      "PutOuts      0\n",
      "Assists      0\n",
      "Errors       0\n",
      "Salary       0\n",
      "NewLeague    0\n",
      "dtype: int64\n"
     ]
    }
   ],
   "metadata": {}
  },
  {
   "cell_type": "markdown",
   "source": [
    "#### (6) Extract the features and the label from the data."
   ],
   "metadata": {}
  },
  {
   "cell_type": "code",
   "execution_count": 1832,
   "source": [
    "X = hitters_data[[\"HmRun\", \"Years\", \"NewLeague\"]]\n",
    "label = len(hitters_data)\n",
    "print(\"Label: \", label)\n",
    "print(X)"
   ],
   "outputs": [
    {
     "output_type": "stream",
     "name": "stdout",
     "text": [
      "Label:  263\n",
      "     HmRun  Years NewLeague\n",
      "1        7     14         N\n",
      "2       18      3         A\n",
      "3       20     11         N\n",
      "4       10      2         N\n",
      "5        4     11         A\n",
      "..     ...    ...       ...\n",
      "317      7      5         N\n",
      "318      5     12         A\n",
      "319      3      6         A\n",
      "320      9      8         A\n",
      "321      9     11         A\n",
      "\n",
      "[263 rows x 3 columns]\n"
     ]
    }
   ],
   "metadata": {}
  },
  {
   "cell_type": "markdown",
   "source": [
    "#### (7) Data preprocessing. "
   ],
   "metadata": {}
  },
  {
   "cell_type": "code",
   "execution_count": 1833,
   "source": [
    "categorical=X.select_dtypes(exclude=['float64','int64'])\n",
    "cat_dummy = pd.get_dummies(categorical)\n",
    "categorical = pd.concat([X, cat_dummy], axis=1)\n",
    "categorical.pop(\"NewLeague\")\n",
    "categorical.pop(\"NewLeague_A\")\n",
    "print(X)\n"
   ],
   "outputs": [
    {
     "output_type": "stream",
     "name": "stdout",
     "text": [
      "     HmRun  Years NewLeague\n",
      "1        7     14         N\n",
      "2       18      3         A\n",
      "3       20     11         N\n",
      "4       10      2         N\n",
      "5        4     11         A\n",
      "..     ...    ...       ...\n",
      "317      7      5         N\n",
      "318      5     12         A\n",
      "319      3      6         A\n",
      "320      9      8         A\n",
      "321      9     11         A\n",
      "\n",
      "[263 rows x 3 columns]\n"
     ]
    }
   ],
   "metadata": {}
  },
  {
   "cell_type": "markdown",
   "source": [
    "#### (8) Transform the output into numerical format.  "
   ],
   "metadata": {}
  },
  {
   "cell_type": "code",
   "execution_count": 1834,
   "source": [
    "categorical.replace('A', 0)\n",
    "categorical.replace('N', 1)\n",
    "print(categorical)"
   ],
   "outputs": [
    {
     "output_type": "stream",
     "name": "stdout",
     "text": [
      "     HmRun  Years  NewLeague_N\n",
      "1        7     14            1\n",
      "2       18      3            0\n",
      "3       20     11            1\n",
      "4       10      2            1\n",
      "5        4     11            0\n",
      "..     ...    ...          ...\n",
      "317      7      5            1\n",
      "318      5     12            0\n",
      "319      3      6            0\n",
      "320      9      8            0\n",
      "321      9     11            0\n",
      "\n",
      "[263 rows x 3 columns]\n"
     ]
    }
   ],
   "metadata": {}
  },
  {
   "cell_type": "markdown",
   "source": [
    "## Problem 3: Models for Hitters"
   ],
   "metadata": {}
  },
  {
   "cell_type": "markdown",
   "source": [
    "#### (1) Prediction"
   ],
   "metadata": {}
  },
  {
   "cell_type": "code",
   "execution_count": 1835,
   "source": [
    "# Split dataset to training set and test set\n",
    "from sklearn.model_selection import train_test_split\n",
    "from sklearn.linear_model import LinearRegression\n",
    "from sklearn.linear_model import LogisticRegression\n",
    "from sklearn.metrics import classification_report, confusion_matrix\n",
    "\n",
    "X = categorical[[\"HmRun\", \"Years\"]]\n",
    "y = categorical[\"NewLeague_N\"]\n",
    "X_train, X_test, y_train, y_test = train_test_split(X, y, test_size = 0.2)\n",
    "linear_model = LinearRegression().fit(X_train, y_train)\n",
    "lin_predictions = linear_model.predict(X_test)\n",
    "plt.scatter(lin_predictions, y_test)\n",
    "plt.title(\"Linear Regression Model\")\n",
    "plt.show()\n",
    "#-------------------------------------------\n",
    "logistic_model = LogisticRegression().fit(X_train,y_train)\n",
    "p_pred = logistic_model.predict_proba(X_test)[::,1]\n",
    "y_pred = logistic_model.predict(X)\n",
    "score_ = logistic_model.score(X, y)\n",
    "conf_m = confusion_matrix(y, y_pred)\n",
    "info = classification_report(y, y_pred)\n",
    "print('Logistic Regression:', info, sep='\\n')"
   ],
   "outputs": [
    {
     "output_type": "display_data",
     "data": {
      "image/png": "[encoded data removed]",
      "text/plain": [
       "<Figure size 432x288 with 1 Axes>"
      ]
     },
     "metadata": {
      "needs_background": "light"
     }
    },
    {
     "output_type": "stream",
     "name": "stdout",
     "text": [
      "Logistic Regression:\n",
      "              precision    recall  f1-score   support\n",
      "\n",
      "           0       0.61      0.50      0.55       141\n",
      "           1       0.52      0.64      0.58       122\n",
      "\n",
      "    accuracy                           0.56       263\n",
      "   macro avg       0.57      0.57      0.56       263\n",
      "weighted avg       0.57      0.56      0.56       263\n",
      "\n"
     ]
    }
   ],
   "metadata": {}
  },
  {
   "cell_type": "markdown",
   "source": [
    "#####  (2) (a) Please provide the coefficients for each feature for both models. Are they the same? Are they different? Why?"
   ],
   "metadata": {}
  },
  {
   "cell_type": "code",
   "execution_count": 1836,
   "source": [
    "print(\"Linear Model Coefficients: \", linear_model.coef_)\n",
    "print(\"Logistic Model Coefficients: \", logistic_model.coef_)"
   ],
   "outputs": [
    {
     "output_type": "stream",
     "name": "stdout",
     "text": [
      "Linear Model Coefficients:  [-1.25299842e-02  6.18965884e-05]\n",
      "Logistic Model Coefficients:  [[-0.05283313  0.00090749]]\n"
     ]
    }
   ],
   "metadata": {}
  },
  {
   "cell_type": "markdown",
   "source": [
    "##### (2) (b) Please plot the ROC curve for both models. What are the area under the curve measurements?"
   ],
   "metadata": {}
  },
  {
   "cell_type": "code",
   "execution_count": 1837,
   "source": [
    "from sklearn import metrics\n",
    "\n",
    "fpr, tpr, _ = metrics.roc_curve(y_test,  p_pred)\n",
    "auc = metrics.roc_auc_score(y_test, p_pred)\n",
    "\n",
    "plt.plot(fpr,tpr, label=\"AUC=\"+str(auc))\n",
    "plt.ylabel('True Positive Rate')\n",
    "plt.xlabel('False Positive Rate')\n",
    "plt.title('Logistic Regression ROC')\n",
    "plt.legend(loc=2)\n",
    "plt.show()\n",
    "#-------------------------------------\n",
    "fpr2, tpr2, _ = metrics.roc_curve(y_test,  lin_predictions)\n",
    "auc = metrics.roc_auc_score(y_test, lin_predictions)\n",
    "\n",
    "plt.plot(fpr2,tpr2, label=\"AUC=\"+str(auc))\n",
    "plt.ylabel('True Positive Rate')\n",
    "plt.xlabel('False Positive Rate')\n",
    "plt.title('Linear Regression ROC')\n",
    "plt.legend(loc=2)\n",
    "plt.show()"
   ],
   "outputs": [
    {
     "output_type": "display_data",
     "data": {
      "image/png": "[encoded data removed]",
      "text/plain": [
       "<Figure size 432x288 with 1 Axes>"
      ]
     },
     "metadata": {
      "needs_background": "light"
     }
    },
    {
     "output_type": "display_data",
     "data": {
      "image/png": "[encoded data removed]",
      "text/plain": [
       "<Figure size 432x288 with 1 Axes>"
      ]
     },
     "metadata": {
      "needs_background": "light"
     }
    }
   ],
   "metadata": {}
  },
  {
   "cell_type": "markdown",
   "source": [
    "##### (2) (c) What is the optimal decision threshold to maximize the f1 score?"
   ],
   "metadata": {}
  },
  {
   "cell_type": "code",
   "execution_count": 1838,
   "source": [
    "from sklearn.metrics import roc_curve\n",
    "from numpy import sqrt\n",
    "from numpy import argmax\n",
    "\n",
    "fpr, tpr, thresholds = roc_curve(y_test, p_pred)\n",
    "# calculate the g-mean for each threshold\n",
    "gmeans = sqrt(tpr * (1-fpr))\n",
    "# locate the index of the largest g-mean\n",
    "ix = argmax(gmeans)\n",
    "print('Optimal Decision Threshold=%f, G-Mean=%.3f' % (thresholds[ix], gmeans[ix]))"
   ],
   "outputs": [
    {
     "output_type": "stream",
     "name": "stdout",
     "text": [
      "Optimal Decision Threshold=0.527821, G-Mean=0.562\n"
     ]
    }
   ],
   "metadata": {}
  },
  {
   "cell_type": "markdown",
   "source": [
    "#### (3) Five-fold Cross-validation: Repeat (1) using a stratified, five-fold cross-validation."
   ],
   "metadata": {}
  },
  {
   "cell_type": "code",
   "execution_count": 1839,
   "source": [
    "from sklearn.linear_model import LogisticRegression, Ridge, Lasso\n",
    "from sklearn.model_selection import GridSearchCV\n",
    "from sklearn.model_selection import StratifiedKFold\n",
    "from sklearn.metrics import roc_auc_score\n",
    "\n",
    "max_iter = 1e8\n",
    "\n",
    "auc_value = 0\n",
    "auc_array = []\n",
    "fold_count = 0\n",
    "fold_array = [1,2,3,4,5]\n",
    "\n",
    "print(\"Auroc values after each fold:\")\n",
    "skf=StratifiedKFold(n_splits=5, shuffle=True)\n",
    "for train_index, test_index in skf.split(X, y):\n",
    "    X_train, X_test = X.iloc[train_index], X.iloc[test_index]\n",
    "    y_train, y_test = y.iloc[train_index].values.ravel(), y.iloc[test_index].values.ravel()\n",
    "\n",
    "    log_regressor   = LogisticRegression(penalty='l2', max_iter = max_iter)\n",
    "    log_regressor.fit(X_train, y_train)\n",
    "    log_pred   =   log_regressor.predict(X_test)\n",
    "    \n",
    "    auc_value   += roc_auc_score(y_test, log_pred)/num_of_folds\n",
    "    fold_count += 1\n",
    "    auc_array.append(auc_value)\n",
    "    print(fold_count,\":\", auc_value)\n",
    "\n",
    "print (\"Final Auroc value: \", auc_value)\n",
    "plt.plot(fold_array, auc_array, label=\"AUROC=\"+str(auc_value))\n",
    "plt.ylabel('AUROC Value')\n",
    "plt.xlabel('Fold Number')\n",
    "plt.title('AUROC vs Fold')\n",
    "plt.legend(loc=2)\n",
    "plt.show()"
   ],
   "outputs": [
    {
     "output_type": "stream",
     "name": "stdout",
     "text": [
      "Auroc values after each fold:\n",
      "1 : 0.11542857142857141\n",
      "2 : 0.22014285714285714\n",
      "3 : 0.3378152709359606\n",
      "4 : 0.45448193760262723\n",
      "5 : 0.5687676518883416\n",
      "Final Auroc value:  0.5687676518883416\n"
     ]
    },
    {
     "output_type": "display_data",
     "data": {
      "image/png": "[encoded data removed]",
      "text/plain": [
       "<Figure size 432x288 with 1 Axes>"
      ]
     },
     "metadata": {
      "needs_background": "light"
     }
    }
   ],
   "metadata": {}
  },
  {
   "cell_type": "markdown",
   "source": [
    "##### (3) (a) Do the features change in each fold?"
   ],
   "metadata": {}
  },
  {
   "cell_type": "code",
   "execution_count": 1840,
   "source": [
    "for i in range(len(auc_array)-1):\n",
    "    print(\"Difference between fold\", i+1, \"and fold\", i+2, \"is: \", auc_array[i+1]-auc_array[i])\n",
    "print(\"The amount they change by is relatively consistent but there is a general trend of them increasing\")"
   ],
   "outputs": [
    {
     "output_type": "stream",
     "name": "stdout",
     "text": [
      "Difference between fold 1 and fold 2 is:  0.10471428571428573\n",
      "Difference between fold 2 and fold 3 is:  0.11767241379310345\n",
      "Difference between fold 3 and fold 4 is:  0.11666666666666664\n",
      "Difference between fold 4 and fold 5 is:  0.11428571428571432\n"
     ]
    }
   ],
   "metadata": {}
  },
  {
   "cell_type": "markdown",
   "source": [
    "##### (3) (b) Please provide a mean and 95% confidence interval for the AUROCs for each model."
   ],
   "metadata": {}
  },
  {
   "cell_type": "code",
   "execution_count": null,
   "source": [],
   "outputs": [],
   "metadata": {}
  },
  {
   "cell_type": "markdown",
   "source": [
    "##### (3) (c) Please provide a mean and 95% confidence interval for the f1 score for each model."
   ],
   "metadata": {}
  },
  {
   "cell_type": "code",
   "execution_count": null,
   "source": [],
   "outputs": [],
   "metadata": {}
  }
 ],
 "metadata": {
  "kernelspec": {
   "name": "python3",
   "display_name": "Python 3.8.8 64-bit ('base': conda)"
  },
  "language_info": {
   "codemirror_mode": {
    "name": "ipython",
    "version": 3
   },
   "file_extension": ".py",
   "mimetype": "text/x-python",
   "name": "python",
   "nbconvert_exporter": "python",
   "pygments_lexer": "ipython3",
   "version": "3.8.8"
  },
  "interpreter": {
   "hash": "4e7d7b88fe9e1670f7e8ef5777cab33ffeab5b31ad2df29b9051f9df525a9039"
  }
 },
 "nbformat": 4,
 "nbformat_minor": 2
}