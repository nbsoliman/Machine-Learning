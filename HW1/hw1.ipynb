{
 "cells": [
  {
   "cell_type": "markdown",
   "source": [
    "(1) Download and read the data.  For Python, you may usepandaslibrary and useread csvfunction"
   ],
   "metadata": {}
  },
  {
   "cell_type": "code",
   "execution_count": 1,
   "source": [
    "from sklearn.model_selection import train_test_split\n",
    "from sklearn.neighbors import KNeighborsClassifier\n",
    "from sklearn.neighbors import KNeighborsRegressor\n",
    "from sklearn.preprocessing import StandardScaler\n",
    "import matplotlib.pyplot as plt\n",
    "import pandas as pd\n",
    "import numpy as np\n",
    "\n",
    "data = pd.read_csv(\"Smarket2.csv\")"
   ],
   "outputs": [],
   "metadata": {}
  },
  {
   "cell_type": "markdown",
   "source": [
    "(2) Print the data.  How does the data look like?  (For Python, you may usehead()function inpandaslibrary)"
   ],
   "metadata": {}
  },
  {
   "cell_type": "code",
   "execution_count": 2,
   "source": [
    "print(data.head())"
   ],
   "outputs": [
    {
     "output_type": "stream",
     "name": "stdout",
     "text": [
      "   Unnamed: 0  Year   Lag1   Lag2   Lag3   Lag4   Lag5  Volume  Today  \\\n",
      "0           1  2001  0.381 -0.192 -2.624 -1.055  5.010  1.1913  0.959   \n",
      "1           2  2001  0.959  0.381 -0.192 -2.624 -1.055  1.2965  1.032   \n",
      "2           3  2001  1.032  0.959  0.381 -0.192 -2.624  1.4112 -0.623   \n",
      "3           4  2001 -0.623  1.032  0.959  0.381 -0.192  1.2760  0.614   \n",
      "4           5  2001  0.614 -0.623  1.032  0.959  0.381  1.2057  0.213   \n",
      "\n",
      "  Direction  \n",
      "0        Up  \n",
      "1        Up  \n",
      "2      Down  \n",
      "3        Up  \n",
      "4        Up  \n"
     ]
    }
   ],
   "metadata": {}
  },
  {
   "cell_type": "markdown",
   "source": [
    "(3) Print the shape of the data. Shape means the dimensions of the data. (In Python,pandasdataframeinstances have a variableshape)"
   ],
   "metadata": {}
  },
  {
   "cell_type": "code",
   "execution_count": 3,
   "source": [
    "print(\"Shape: \", data.shape)"
   ],
   "outputs": [
    {
     "output_type": "stream",
     "name": "stdout",
     "text": [
      "Shape:  (1250, 10)\n"
     ]
    }
   ],
   "metadata": {}
  },
  {
   "cell_type": "markdown",
   "source": [
    "(4) Extract the features and the label from the data.  The features we are interested in areLag1andLag2and the label isDirection."
   ],
   "metadata": {}
  },
  {
   "cell_type": "code",
   "execution_count": 4,
   "source": [
    "extracted = data[[\"Lag1\", \"Lag2\", \"Direction\"]]\n",
    "print(extracted.head())"
   ],
   "outputs": [
    {
     "output_type": "stream",
     "name": "stdout",
     "text": [
      "    Lag1   Lag2 Direction\n",
      "0  0.381 -0.192        Up\n",
      "1  0.959  0.381        Up\n",
      "2  1.032  0.959      Down\n",
      "3 -0.623  1.032        Up\n",
      "4  0.614 -0.623        Up\n"
     ]
    }
   ],
   "metadata": {}
  },
  {
   "cell_type": "markdown",
   "source": [
    "(5) Split the data into a train/test split.  (In Python, you can usetrain test splitfromsklearnlibrary.)"
   ],
   "metadata": {}
  },
  {
   "cell_type": "code",
   "execution_count": 5,
   "source": [
    "X = data[[\"Lag1\", \"Lag2\"]]\n",
    "y = data[[\"Direction\"]]\n",
    "print(X)\n",
    "print(y)\n",
    "X_train, X_test, y_train, y_test = train_test_split(X, y, test_size = 0.2)"
   ],
   "outputs": [
    {
     "output_type": "stream",
     "name": "stdout",
     "text": [
      "       Lag1   Lag2\n",
      "0     0.381 -0.192\n",
      "1     0.959  0.381\n",
      "2     1.032  0.959\n",
      "3    -0.623  1.032\n",
      "4     0.614 -0.623\n",
      "...     ...    ...\n",
      "1245  0.422  0.252\n",
      "1246  0.043  0.422\n",
      "1247 -0.955  0.043\n",
      "1248  0.130 -0.955\n",
      "1249 -0.298  0.130\n",
      "\n",
      "[1250 rows x 2 columns]\n",
      "     Direction\n",
      "0           Up\n",
      "1           Up\n",
      "2         Down\n",
      "3           Up\n",
      "4           Up\n",
      "...        ...\n",
      "1245        Up\n",
      "1246      Down\n",
      "1247        Up\n",
      "1248      Down\n",
      "1249      Down\n",
      "\n",
      "[1250 rows x 1 columns]\n"
     ]
    }
   ],
   "metadata": {}
  },
  {
   "cell_type": "markdown",
   "source": [
    "(6) Apply k-NN to the data.  (In Python, you can use theKNeighborsClassifierfunction fromsklearnlibrary.)"
   ],
   "metadata": {}
  },
  {
   "cell_type": "code",
   "execution_count": 6,
   "source": [
    "scores = []\n",
    "for k in range(1,11):\n",
    "    classifier = KNeighborsClassifier(n_neighbors=k)\n",
    "    classifier.fit(X_train, y_train.values.ravel())\n",
    "    y_pred = classifier.predict(X_test)\n",
    "    scores.append(classifier.score(X_test, y_test))\n",
    "    print(\"Accuracy at K =\", k, \": \", classifier.score(X_test, y_test))"
   ],
   "outputs": [
    {
     "output_type": "stream",
     "name": "stdout",
     "text": [
      "Accuracy at K = 1 :  0.52\n",
      "Accuracy at K = 2 :  0.516\n",
      "Accuracy at K = 3 :  0.536\n",
      "Accuracy at K = 4 :  0.524\n",
      "Accuracy at K = 5 :  0.504\n",
      "Accuracy at K = 6 :  0.468\n",
      "Accuracy at K = 7 :  0.464\n",
      "Accuracy at K = 8 :  0.488\n",
      "Accuracy at K = 9 :  0.464\n",
      "Accuracy at K = 10 :  0.496\n"
     ]
    }
   ],
   "metadata": {}
  },
  {
   "cell_type": "markdown",
   "source": [
    "(7) Plot the accuracy of your implementation fork∈1,2,3,4,5,6,7,8,9,10."
   ],
   "metadata": {}
  },
  {
   "cell_type": "code",
   "execution_count": 7,
   "source": [
    "plt.plot([1,2,3,4,5,6,7,8,9,10], scores)\n",
    "plt.xlabel(\"K values\")\n",
    "plt.ylabel(\"Accuracy Rating\")\n",
    "plt.show()"
   ],
   "outputs": [
    {
     "output_type": "display_data",
     "data": {
      "image/png": "[encoded data removed]",
      "text/plain": [
       "<Figure size 432x288 with 1 Axes>"
      ]
     },
     "metadata": {
      "needs_background": "light"
     }
    }
   ],
   "metadata": {}
  }
 ],
 "metadata": {
  "orig_nbformat": 4,
  "language_info": {
   "name": "python",
   "version": "3.8.8",
   "mimetype": "text/x-python",
   "codemirror_mode": {
    "name": "ipython",
    "version": 3
   },
   "pygments_lexer": "ipython3",
   "nbconvert_exporter": "python",
   "file_extension": ".py"
  },
  "kernelspec": {
   "name": "python3",
   "display_name": "Python 3.8.8 64-bit ('base': conda)"
  },
  "interpreter": {
   "hash": "4e7d7b88fe9e1670f7e8ef5777cab33ffeab5b31ad2df29b9051f9df525a9039"
  }
 },
 "nbformat": 4,
 "nbformat_minor": 2
}